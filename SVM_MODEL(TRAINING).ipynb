{
 "cells": [
  {
   "cell_type": "code",
   "execution_count": 5,
   "metadata": {},
   "outputs": [],
   "source": [
    "#SVM CLASSIFICATION\n",
    "import numpy as np\n",
    "import pandas as pd\n",
    "import matplotlib.pyplot as plt\n"
   ]
  },
  {
   "cell_type": "code",
   "execution_count": 6,
   "metadata": {},
   "outputs": [],
   "source": [
    "from sklearn.svm import SVC\n",
    "from sklearn.model_selection import train_test_split\n",
    "from sklearn.metrics import confusion_matrix, classification_report"
   ]
  },
  {
   "cell_type": "code",
   "execution_count": 7,
   "metadata": {},
   "outputs": [],
   "source": [
    "import random \n",
    "import gzip"
   ]
  },
  {
   "cell_type": "code",
   "execution_count": 8,
   "metadata": {},
   "outputs": [],
   "source": [
    "#load_mnist:A function to load MNIST data into ipython notebook\n",
    "#type: 'image' or 'label' to specify the type of data\n",
    "#n_datapoints : Number of datapoints\n",
    "\n",
    "def load_mnist(filename, type, n_datapoints):\n",
    "    #MNIST images have 28*28 pixels dimension\n",
    "    image_size=28\n",
    "    f = gzip.open(filename)\n",
    "\n",
    "    if(type== 'image'):\n",
    "        f.read(16) #skip Non-image information\n",
    "        buf = f.read(n_datapoints *image_size*image_size)\n",
    "        data = np.frombuffer(buf, dtype= np.uint8).astype(np.float32)\n",
    "        data = data.reshape(n_datapoints, image_size, image_size, 1)\n",
    "\n",
    "    elif( type == 'label'):\n",
    "        f.read(8)#skip the inessential information\n",
    "        buf = f.read(n_datapoints)\n",
    "        data = np.frombuffer(buf, dtype= np.uint8).astype(np.uint64)\n",
    "        data = data.reshape(n_datapoints, 1)\n",
    "    return data\n",
    "\n"
   ]
  },
  {
   "cell_type": "code",
   "execution_count": 9,
   "metadata": {},
   "outputs": [],
   "source": [
    "#Training dataset\n",
    "train_size =6000\n",
    "test_size = 1000\n",
    "X = load_mnist( 'train-images-idx3-ubyte.gz', 'image', train_size)\n",
    "Y = load_mnist( 'train-labels-idx1-ubyte.gz', 'label', train_size)\n",
    "X_test = load_mnist('t10k-images-idx3-ubyte.gz', 'image', test_size)\n",
    "Y_test = load_mnist('t10k-labels-idx1-ubyte.gz', 'label', test_size)"
   ]
  },
  {
   "cell_type": "code",
   "execution_count": 12,
   "metadata": {},
   "outputs": [
    {
     "name": "stdout",
     "output_type": "stream",
     "text": [
      "(450, 28, 28, 1) (150, 28, 28, 1) (450, 1) (150, 1)\n"
     ]
    }
   ],
   "source": [
    "from sklearn.model_selection import train_test_split\n",
    "X_train, X_valid, Y_train, Y_valid = train_test_split(X[:(train_size//10)], Y[:(train_size//10)], test_size=0.25, random_state=2)\n",
    "print(X_train.shape, X_valid.shape, Y_train.shape, Y_valid.shape)"
   ]
  },
  {
   "cell_type": "code",
   "execution_count": 14,
   "metadata": {},
   "outputs": [],
   "source": [
    "#Build SVM model\n",
    "classifier = SVC()"
   ]
  },
  {
   "cell_type": "code",
   "execution_count": 15,
   "metadata": {},
   "outputs": [
    {
     "name": "stdout",
     "output_type": "stream",
     "text": [
      "Training the model\n"
     ]
    },
    {
     "name": "stderr",
     "output_type": "stream",
     "text": [
      "c:\\Users\\mansi\\anaconda3\\lib\\site-packages\\sklearn\\utils\\validation.py:993: DataConversionWarning: A column-vector y was passed when a 1d array was expected. Please change the shape of y to (n_samples, ), for example using ravel().\n",
      "  y = column_or_1d(y, warn=True)\n"
     ]
    }
   ],
   "source": [
    "print('Training the model')\n",
    "classifier = classifier.fit(X.reshape(X.shape[0], 28*28), Y)\n"
   ]
  },
  {
   "cell_type": "code",
   "execution_count": 17,
   "metadata": {},
   "outputs": [
    {
     "name": "stdout",
     "output_type": "stream",
     "text": [
      "              precision    recall  f1-score   support\n",
      "\n",
      "           0       0.93      0.98      0.95        85\n",
      "           1       0.98      0.99      0.99       126\n",
      "           2       0.95      0.91      0.93       116\n",
      "           3       0.93      0.91      0.92       107\n",
      "           4       0.93      0.95      0.94       110\n",
      "           5       0.93      0.93      0.93        87\n",
      "           6       0.95      0.95      0.95        87\n",
      "           7       0.93      0.94      0.93        99\n",
      "           8       0.89      0.90      0.89        89\n",
      "           9       0.93      0.91      0.92        94\n",
      "\n",
      "    accuracy                           0.94      1000\n",
      "   macro avg       0.94      0.94      0.94      1000\n",
      "weighted avg       0.94      0.94      0.94      1000\n",
      "\n"
     ]
    }
   ],
   "source": [
    "#predicting the results\n",
    "y_pred = classifier.predict(X_test.reshape(X_test.shape[0], 28*28))\n",
    "print(classification_report(Y_test, y_pred))"
   ]
  },
  {
   "cell_type": "code",
   "execution_count": 18,
   "metadata": {},
   "outputs": [
    {
     "data": {
      "text/plain": [
       "array([[ 83,   0,   0,   0,   0,   1,   1,   0,   0,   0],\n",
       "       [  0, 125,   1,   0,   0,   0,   0,   0,   0,   0],\n",
       "       [  1,   0, 106,   1,   1,   0,   1,   2,   4,   0],\n",
       "       [  0,   0,   0,  97,   0,   5,   1,   1,   2,   1],\n",
       "       [  0,   0,   1,   0, 104,   0,   0,   1,   0,   4],\n",
       "       [  0,   0,   0,   2,   1,  81,   1,   0,   1,   1],\n",
       "       [  3,   0,   0,   0,   1,   0,  83,   0,   0,   0],\n",
       "       [  0,   2,   3,   0,   1,   0,   0,  93,   0,   0],\n",
       "       [  2,   0,   1,   3,   2,   0,   0,   1,  80,   0],\n",
       "       [  0,   0,   0,   1,   2,   0,   0,   2,   3,  86]], dtype=int64)"
      ]
     },
     "execution_count": 18,
     "metadata": {},
     "output_type": "execute_result"
    }
   ],
   "source": [
    "confusion_matrix(Y_test, y_pred)"
   ]
  },
  {
   "cell_type": "code",
   "execution_count": 19,
   "metadata": {},
   "outputs": [
    {
     "data": {
      "text/plain": [
       "(28, 28, 1)"
      ]
     },
     "execution_count": 19,
     "metadata": {},
     "output_type": "execute_result"
    }
   ],
   "source": [
    "X[0].shape\n"
   ]
  },
  {
   "cell_type": "code",
   "execution_count": 20,
   "metadata": {},
   "outputs": [
    {
     "data": {
      "text/plain": [
       "(6000, 784)"
      ]
     },
     "execution_count": 20,
     "metadata": {},
     "output_type": "execute_result"
    }
   ],
   "source": [
    "(X.reshape(X.shape[0], 28*28)).shape"
   ]
  },
  {
   "cell_type": "code",
   "execution_count": null,
   "metadata": {},
   "outputs": [],
   "source": []
  }
 ],
 "metadata": {
  "kernelspec": {
   "display_name": "base",
   "language": "python",
   "name": "python3"
  },
  "language_info": {
   "codemirror_mode": {
    "name": "ipython",
    "version": 3
   },
   "file_extension": ".py",
   "mimetype": "text/x-python",
   "name": "python",
   "nbconvert_exporter": "python",
   "pygments_lexer": "ipython3",
   "version": "3.9.13"
  },
  "orig_nbformat": 4
 },
 "nbformat": 4,
 "nbformat_minor": 2
}
